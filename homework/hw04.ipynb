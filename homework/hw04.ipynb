{
 "cells": [
  {
   "cell_type": "code",
   "execution_count": 48,
   "id": "dfed0dc0",
   "metadata": {},
   "outputs": [],
   "source": [
    "#Specify the schema for the crime data set.\n",
    "\n",
    "import pyspark\n",
    "from pyspark.sql import SparkSession\n",
    "from pyspark.sql.types import StructType,StructField, StringType, IntegerType, DoubleType\n",
    "\n",
    "schema = StructType([ \n",
    "    StructField(\"X\",DoubleType(),True), \n",
    "    StructField(\"Y\",DoubleType(),True), \n",
    "    StructField(\"RowID\",IntegerType(),True), \n",
    "    StructField(\"CrimeDateTime\", StringType(), True), \n",
    "    StructField(\"CrimeCode\", StringType(), True), \n",
    "    StructField(\"Location\", StringType(), True),\n",
    "    StructField(\"Description\", StringType(), True),\n",
    "    StructField(\"Inside_Outside\", StringType(), True),\n",
    "    StructField(\"Weapon\", StringType(), True),\n",
    "    StructField(\"Post\", IntegerType(), True),\n",
    "    StructField(\"District\", StringType(), True),\n",
    "    StructField(\"Neighborhood\", StringType(), True),\n",
    "    StructField(\"Latitude\", DoubleType(), True),\n",
    "    StructField(\"Longitude\", DoubleType(), True),             \n",
    "    StructField(\"GeoLocation\", StringType(), True),\n",
    "    StructField(\"Premise\", StringType(), True),\n",
    "    StructField(\"VRIName\", StringType(), True),\n",
    "    StructField(\"Total_Incidents\", IntegerType(), True),\n",
    "    StructField(\"Shape\", StringType(), True)\n",
    "  ])"
   ]
  },
  {
   "cell_type": "code",
   "execution_count": 49,
   "id": "f409ce5f",
   "metadata": {},
   "outputs": [
    {
     "name": "stdout",
     "output_type": "stream",
     "text": [
      "+----------------+----------------+-----+--------------------+---------+--------------------+--------------+--------------+-------+----+---------+--------------------+--------+---------+------------------+---------------+------------+---------------+-----+\n",
      "|               X|               Y|RowID|       CrimeDateTime|CrimeCode|            Location|   Description|Inside_Outside| Weapon|Post| District|        Neighborhood|Latitude|Longitude|       GeoLocation|        Premise|     VRIName|Total_Incidents|Shape|\n",
      "+----------------+----------------+-----+--------------------+---------+--------------------+--------------+--------------+-------+----+---------+--------------------+--------+---------+------------------+---------------+------------+---------------+-----+\n",
      "|1420074.13302107|594160.602354662|    1|2022/02/26 04:00:...|       4E|   200 W MONUMENT ST|COMMON ASSAULT|          null|   null| 124|  CENTRAL|        MOUNT VERNON| 39.2975| -76.6193|(39.2975,-76.6193)|           null|        null|              1| null|\n",
      "|1411374.22509631|589791.383964529|    2|2022/02/26 01:26:...|       9S|  2100 FREDERICK AVE|      SHOOTING|       Outside|FIREARM| 835|SOUTHWEST|    CARROLLTON RIDGE| 39.2856| -76.6501|(39.2856,-76.6501)|COMMON BUSINESS|Tri-District|              1| null|\n",
      "|1411401.16887136|582761.775193539|    3|2022/02/26 10:22:...|       4E|  2000 GRINNALDS AVE|COMMON ASSAULT|          null|   null| 831|SOUTHWEST|        MORRELL PARK| 39.2663| -76.6501|(39.2663,-76.6501)|           null|        null|              1| null|\n",
      "|1422663.14365552|597595.359444412|    4|2022/02/26 01:11:...|       7A|     400 E OLIVER ST|    AUTO THEFT|          null|   null| 313|  EASTERN|     GREENMOUNT WEST| 39.3069| -76.6101|(39.3069,-76.6101)|           null|        null|              1| null|\n",
      "|1440496.49709374|607767.144994879|    5|2022/02/26 12:30:...|       4B| 5300 PLAINFIELD AVE|  AGG. ASSAULT|          null|  KNIFE| 444|NORTHEAST|           FRANKFORD| 39.3346| -76.5469|(39.3346,-76.5469)|           null|        null|              1| null|\n",
      "|1413036.07669276|584625.682223044|    6|2022/02/26 05:40:...|       5F|    1300 WESTERN AVE|      BURGLARY|          null|   null| 941| SOUTHERN|CARROLL - CAMDEN ...| 39.2714| -76.6443|(39.2714,-76.6443)|           null|        null|              1| null|\n",
      "|1413036.07669276|584625.682223044|    7|2022/02/26 05:40:...|       6G|    1300 WESTERN AVE|       LARCENY|          null|   null| 941| SOUTHERN|CARROLL - CAMDEN ...| 39.2714| -76.6443|(39.2714,-76.6443)|           null|        null|              1| null|\n",
      "|1413415.61575604|588925.125519094|    8|2022/02/26 14:32:...|       4E|    1600 WILKENS AVE|COMMON ASSAULT|          null|   null| 935| SOUTHERN|NEW SOUTHWEST/MOU...| 39.2832| -76.6429|(39.2832,-76.6429)|           null|Tri-District|              1| null|\n",
      "|1417569.89995454|597537.684190899|    9|2022/02/26 03:05:...|       4B|     300 MCMECHEN ST|  AGG. ASSAULT|          null|  KNIFE| 132|  CENTRAL|         BOLTON HILL| 39.3068| -76.6281|(39.3068,-76.6281)|           null|        null|              1| null|\n",
      "|1435909.71688415|608691.815294192|   10|2022/02/26 14:10:...|       4A|  3800 CEDARHURST RD|  AGG. ASSAULT|          null|FIREARM| 426|NORTHEAST|          WALTHERSON| 39.3372| -76.5631|(39.3372,-76.5631)|           null|        null|              1| null|\n",
      "|1426723.75762613|613566.755914427|   11|2022/02/26 19:30:...|       4B|     1300 KITMORE RD|  AGG. ASSAULT|          null|  KNIFE| 413|NORTHEAST|       NEW NORTHWOOD| 39.3507| -76.5955|(39.3507,-76.5955)|           null|        null|              1| null|\n",
      "|1399111.03747379|608687.617784868|   12|2022/02/26 01:28:...|       4A|   4400 FERNHILL AVE|  AGG. ASSAULT|          null|FIREARM| 621|NORTHWEST|      WEST ARLINGTON| 39.3376| -76.6932|(39.3376,-76.6932)|           null|        null|              1| null|\n",
      "|1399111.03747379|608687.617784868|   13|2022/02/26 01:28:...|       4A|   4400 FERNHILL AVE|  AGG. ASSAULT|          null|FIREARM| 621|NORTHWEST|      WEST ARLINGTON| 39.3376| -76.6932|(39.3376,-76.6932)|           null|        null|              1| null|\n",
      "|1399111.03747379|608687.617784868|   14|2022/02/26 01:28:...|       4A|   4400 FERNHILL AVE|  AGG. ASSAULT|          null|FIREARM| 621|NORTHWEST|      WEST ARLINGTON| 39.3376| -76.6932|(39.3376,-76.6932)|           null|        null|              1| null|\n",
      "|1401970.80199615|607823.211193856|   15|2022/02/26 19:30:...|       4B|3900 W COLD SPRIN...|  AGG. ASSAULT|          null|  KNIFE| 623|NORTHWEST|            DOLFIELD| 39.3352| -76.6831|(39.3352,-76.6831)|           null|        null|              1| null|\n",
      "|1422005.36086113|  592566.0878077|   16|2022/02/26 20:45:...|       4A|    300 N CALVERT ST|  AGG. ASSAULT|          null|FIREARM| 111|  CENTRAL|            DOWNTOWN| 39.2931| -76.6125|(39.2931,-76.6125)|           null|        null|              1| null|\n",
      "|1399111.03747379|608687.617784868|   17|2022/02/26 01:28:...|       4A|   4400 FERNHILL AVE|  AGG. ASSAULT|          null|FIREARM| 621|NORTHWEST|      WEST ARLINGTON| 39.3376| -76.6932|(39.3376,-76.6932)|           null|        null|              1| null|\n",
      "|1399111.03747379|608687.617784868|   18|2022/02/26 01:28:...|       4A|   4400 FERNHILL AVE|  AGG. ASSAULT|          null|FIREARM| 621|NORTHWEST|      WEST ARLINGTON| 39.3376| -76.6932|(39.3376,-76.6932)|           null|        null|              1| null|\n",
      "|1399111.03747379|608687.617784868|   19|2022/02/26 01:28:...|       4A|   4400 FERNHILL AVE|  AGG. ASSAULT|          null|FIREARM| 621|NORTHWEST|      WEST ARLINGTON| 39.3376| -76.6932|(39.3376,-76.6932)|           null|        null|              1| null|\n",
      "|1421674.05836434|590597.809613198|   20|2022/02/26 10:30:...|       4E|        100 LIGHT ST|COMMON ASSAULT|          null|   null| 113|  CENTRAL|       DOWNTOWN WEST| 39.2877| -76.6137|(39.2877,-76.6137)|           null|        null|              1| null|\n",
      "+----------------+----------------+-----+--------------------+---------+--------------------+--------------+--------------+-------+----+---------+--------------------+--------+---------+------------------+---------------+------------+---------------+-----+\n",
      "only showing top 20 rows\n",
      "\n"
     ]
    }
   ],
   "source": [
    "#Read the file using the schema definition\n",
    "\n",
    "spark = pyspark.sql.SparkSession.builder.getOrCreate()\n",
    "\n",
    "df = spark.read.csv(\"Part1_Crime_data.csv\", sep=\",\", header=True, nullValue=\"NA\", schema=schema)\n",
    "df.show()"
   ]
  },
  {
   "cell_type": "code",
   "execution_count": 50,
   "id": "164d2769",
   "metadata": {},
   "outputs": [],
   "source": [
    "#Cache the DataFrame\n",
    "\n",
    "df1 = df.cache()\n"
   ]
  },
  {
   "cell_type": "code",
   "execution_count": 51,
   "id": "58429643",
   "metadata": {},
   "outputs": [
    {
     "name": "stderr",
     "output_type": "stream",
     "text": [
      "                                                                                \r"
     ]
    },
    {
     "data": {
      "text/plain": [
       "513158"
      ]
     },
     "execution_count": 51,
     "metadata": {},
     "output_type": "execute_result"
    }
   ],
   "source": [
    "#Show the count of the rows\n",
    "\n",
    "df1.count()"
   ]
  },
  {
   "cell_type": "code",
   "execution_count": 52,
   "id": "cd6d6202",
   "metadata": {},
   "outputs": [
    {
     "name": "stdout",
     "output_type": "stream",
     "text": [
      "root\n",
      " |-- X: double (nullable = true)\n",
      " |-- Y: double (nullable = true)\n",
      " |-- RowID: integer (nullable = true)\n",
      " |-- CrimeDateTime: string (nullable = true)\n",
      " |-- CrimeCode: string (nullable = true)\n",
      " |-- Location: string (nullable = true)\n",
      " |-- Description: string (nullable = true)\n",
      " |-- Inside_Outside: string (nullable = true)\n",
      " |-- Weapon: string (nullable = true)\n",
      " |-- Post: integer (nullable = true)\n",
      " |-- District: string (nullable = true)\n",
      " |-- Neighborhood: string (nullable = true)\n",
      " |-- Latitude: double (nullable = true)\n",
      " |-- Longitude: double (nullable = true)\n",
      " |-- GeoLocation: string (nullable = true)\n",
      " |-- Premise: string (nullable = true)\n",
      " |-- VRIName: string (nullable = true)\n",
      " |-- Total_Incidents: integer (nullable = true)\n",
      " |-- Shape: string (nullable = true)\n",
      "\n"
     ]
    }
   ],
   "source": [
    "# Print the schema\n",
    "\n",
    "df1.printSchema()"
   ]
  },
  {
   "cell_type": "code",
   "execution_count": 53,
   "id": "32cd6c85",
   "metadata": {},
   "outputs": [
    {
     "data": {
      "text/plain": [
       "[Row(X=1420074.13302107, Y=594160.602354662, RowID=1, CrimeDateTime='2022/02/26 04:00:00+00', CrimeCode='4E', Location='200 W MONUMENT ST', Description='COMMON ASSAULT', Inside_Outside=None, Weapon=None, Post=124, District='CENTRAL', Neighborhood='MOUNT VERNON', Latitude=39.2975, Longitude=-76.6193, GeoLocation='(39.2975,-76.6193)', Premise=None, VRIName=None, Total_Incidents=1, Shape=None),\n",
       " Row(X=1411374.22509631, Y=589791.383964529, RowID=2, CrimeDateTime='2022/02/26 01:26:30+00', CrimeCode='9S', Location='2100 FREDERICK AVE', Description='SHOOTING', Inside_Outside='Outside', Weapon='FIREARM', Post=835, District='SOUTHWEST', Neighborhood='CARROLLTON RIDGE', Latitude=39.2856, Longitude=-76.6501, GeoLocation='(39.2856,-76.6501)', Premise='COMMON BUSINESS', VRIName='Tri-District', Total_Incidents=1, Shape=None),\n",
       " Row(X=1411401.16887136, Y=582761.775193539, RowID=3, CrimeDateTime='2022/02/26 10:22:00+00', CrimeCode='4E', Location='2000 GRINNALDS AVE', Description='COMMON ASSAULT', Inside_Outside=None, Weapon=None, Post=831, District='SOUTHWEST', Neighborhood='MORRELL PARK', Latitude=39.2663, Longitude=-76.6501, GeoLocation='(39.2663,-76.6501)', Premise=None, VRIName=None, Total_Incidents=1, Shape=None),\n",
       " Row(X=1422663.14365552, Y=597595.359444412, RowID=4, CrimeDateTime='2022/02/26 01:11:00+00', CrimeCode='7A', Location='400 E OLIVER ST', Description='AUTO THEFT', Inside_Outside=None, Weapon=None, Post=313, District='EASTERN', Neighborhood='GREENMOUNT WEST', Latitude=39.3069, Longitude=-76.6101, GeoLocation='(39.3069,-76.6101)', Premise=None, VRIName=None, Total_Incidents=1, Shape=None),\n",
       " Row(X=1440496.49709374, Y=607767.144994879, RowID=5, CrimeDateTime='2022/02/26 12:30:00+00', CrimeCode='4B', Location='5300 PLAINFIELD AVE', Description='AGG. ASSAULT', Inside_Outside=None, Weapon='KNIFE', Post=444, District='NORTHEAST', Neighborhood='FRANKFORD', Latitude=39.3346, Longitude=-76.5469, GeoLocation='(39.3346,-76.5469)', Premise=None, VRIName=None, Total_Incidents=1, Shape=None)]"
      ]
     },
     "execution_count": 53,
     "metadata": {},
     "output_type": "execute_result"
    }
   ],
   "source": [
    "#Display first 5 rows\n",
    "\n",
    "df1.take(5)"
   ]
  },
  {
   "cell_type": "code",
   "execution_count": 54,
   "id": "531403ff",
   "metadata": {},
   "outputs": [
    {
     "name": "stdout",
     "output_type": "stream",
     "text": [
      "+---------+\n",
      "|CrimeCode|\n",
      "+---------+\n",
      "|       3P|\n",
      "|       3K|\n",
      "|      3BJ|\n",
      "|       1A|\n",
      "|       3M|\n",
      "|       5F|\n",
      "|       4B|\n",
      "|       3B|\n",
      "|       7A|\n",
      "|      3NF|\n",
      "|      3EF|\n",
      "|       3N|\n",
      "|       5D|\n",
      "|      3LO|\n",
      "|      3AF|\n",
      "|       7B|\n",
      "|      3GO|\n",
      "|     3AJF|\n",
      "|      8AO|\n",
      "|       7C|\n",
      "+---------+\n",
      "only showing top 20 rows\n",
      "\n"
     ]
    }
   ],
   "source": [
    "#What are distinct crime codes?\n",
    "df1.select(\"CrimeCode\").distinct().show()"
   ]
  },
  {
   "cell_type": "code",
   "execution_count": 55,
   "id": "4332f0d7",
   "metadata": {},
   "outputs": [
    {
     "name": "stdout",
     "output_type": "stream",
     "text": [
      "+---------+-----+\n",
      "|CrimeCode|count|\n",
      "+---------+-----+\n",
      "|       4E|91650|\n",
      "|       6D|68427|\n",
      "|       5A|43928|\n",
      "|       7A|40274|\n",
      "|       6J|27636|\n",
      "|       6G|26858|\n",
      "|       6E|24300|\n",
      "|       6C|23227|\n",
      "|       4C|22438|\n",
      "|       5D|14971|\n",
      "+---------+-----+\n",
      "only showing top 10 rows\n",
      "\n"
     ]
    }
   ],
   "source": [
    "#Count the number of crimes by the crime codes and order by the resulting counts in descending order\n",
    "\n",
    "df1.createOrReplaceTempView('users')\n",
    "\n",
    "query = \"\"\"\n",
    "SELECT CrimeCode, COUNT(*) as count\n",
    "FROM users\n",
    "GROUP BY CrimeCode\n",
    "ORDER BY count DESC\n",
    "\"\"\"\n",
    "output = spark.sql(query)\n",
    "output.show(10)"
   ]
  },
  {
   "cell_type": "code",
   "execution_count": 56,
   "id": "ab417875",
   "metadata": {},
   "outputs": [
    {
     "name": "stdout",
     "output_type": "stream",
     "text": [
      "+------------+-----+\n",
      "|Neighborhood|count|\n",
      "+------------+-----+\n",
      "|    DOWNTOWN|17799|\n",
      "+------------+-----+\n",
      "only showing top 1 row\n",
      "\n"
     ]
    }
   ],
   "source": [
    "#Which neighborhood had most crimes?\n",
    "\n",
    "df1.createOrReplaceTempView('users')\n",
    "\n",
    "query = \"\"\"\n",
    "SELECT Neighborhood, COUNT(*) as count\n",
    "FROM users\n",
    "GROUP BY Neighborhood\n",
    "ORDER BY count DESC\n",
    "\"\"\"\n",
    "output = spark.sql(query)\n",
    "output.show(1)\n"
   ]
  },
  {
   "cell_type": "code",
   "execution_count": 62,
   "id": "a8d3d7f8",
   "metadata": {},
   "outputs": [
    {
     "name": "stderr",
     "output_type": "stream",
     "text": [
      "[Stage 108:=======>                                                 (1 + 7) / 8]\r"
     ]
    },
    {
     "name": "stdout",
     "output_type": "stream",
     "text": [
      "+----+-----+-----+\n",
      "|year|month|count|\n",
      "+----+-----+-----+\n",
      "|2011|    7| 1753|\n",
      "+----+-----+-----+\n",
      "only showing top 1 row\n",
      "\n"
     ]
    },
    {
     "name": "stderr",
     "output_type": "stream",
     "text": [
      "\r",
      "                                                                                \r"
     ]
    }
   ],
   "source": [
    "#Which month of the year had most crimes?\n",
    "\n",
    "import pyspark.sql.functions as f\n",
    "\n",
    "df_month = df1.withColumn('month', f.month(f.to_timestamp('CrimeDateTime', 'yyyy/MM/dd hh:mm:ss+00')))\\\n",
    "            .withColumn('year', f.year(f.to_timestamp('CrimeDateTime', 'yyyy/MM/dd hh:mm:ss+00')))\n",
    "df2 = df_month.na.drop(subset=['year', 'month'])\n",
    "\n",
    "df2.groupBy([\"year\", \"month\"]).count().orderBy('count', ascending=False).show(1)"
   ]
  },
  {
   "cell_type": "code",
   "execution_count": 58,
   "id": "2e484ebc",
   "metadata": {},
   "outputs": [
    {
     "name": "stdout",
     "output_type": "stream",
     "text": [
      "+-------+\n",
      "| Weapon|\n",
      "+-------+\n",
      "|  HANDS|\n",
      "|  KNIFE|\n",
      "|  OTHER|\n",
      "|   FIRE|\n",
      "|FIREARM|\n",
      "+-------+\n",
      "\n"
     ]
    }
   ],
   "source": [
    "#What weapons were used? \n",
    "\n",
    "df3 = df1.na.drop(subset=['Weapon'])\n",
    "df3.select('Weapon').distinct().show()"
   ]
  },
  {
   "cell_type": "code",
   "execution_count": 59,
   "id": "a1f92380",
   "metadata": {},
   "outputs": [
    {
     "name": "stdout",
     "output_type": "stream",
     "text": [
      "+-------+-----+\n",
      "| Weapon|count|\n",
      "+-------+-----+\n",
      "|FIREARM|46139|\n",
      "+-------+-----+\n",
      "only showing top 1 row\n",
      "\n"
     ]
    }
   ],
   "source": [
    "#Which weapon was used the most? \n",
    "\n",
    "df3.createOrReplaceTempView('users')\n",
    "\n",
    "query = \"\"\"\n",
    "SELECT Weapon, COUNT(*) as count\n",
    "FROM users\n",
    "GROUP BY Weapon\n",
    "ORDER BY count DESC\n",
    "\"\"\"\n",
    "output = spark.sql(query)\n",
    "output.show(1)"
   ]
  }
 ],
 "metadata": {
  "kernelspec": {
   "display_name": "Python 3 (ipykernel)",
   "language": "python",
   "name": "python3"
  },
  "language_info": {
   "codemirror_mode": {
    "name": "ipython",
    "version": 3
   },
   "file_extension": ".py",
   "mimetype": "text/x-python",
   "name": "python",
   "nbconvert_exporter": "python",
   "pygments_lexer": "ipython3",
   "version": "3.9.7"
  }
 },
 "nbformat": 4,
 "nbformat_minor": 5
}
